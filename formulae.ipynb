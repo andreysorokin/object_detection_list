{
 "cells": [
  {
   "cell_type": "markdown",
   "source": [
    "$ \\gamma^{num}(m) =  \\sum\\limits_{k=0}^{N-1}\\hat{f}_m(k) \\times \\hat{h}(k) $\n",
    "$ \\gamma^{num}(m) =  \\sum\\limits_{k=0}^{N-1}(f(m + k) - \\bar{f}_m)\\times \\hat{h}(k) $, where\n",
    "$ \\bar{f}_m = \\frac{1}{N}\\sum\\limits_{k=0}^{N-1}f(m + k) $,\n",
    "taking into the account that \n",
    "\n",
    "$ \\gamma^{num}(m) =  \\sum\\limits_{k=0}^{N-1}\\hat{f}_m(k) \\times \\hat{h}(k) $\n",
    "$ \\sum\\limits_{k=0}^{N-1}\\hat{f}_m(k) \\times \\hat{h}(k) = \\hat{f}_m * \\hat{h} = \\mathcal{F}^{-1}\\mathcal{F}({\\hat{f}_m*\\hat{h})} = \\mathcal{F}^{-1}(\\mathcal{F}{\\hat{f}_m}\\mathcal{F}{\\hat{h}}  )$\n"
   ],
   "metadata": {
    "collapsed": false,
    "pycharm": {
     "name": "#%% md\n"
    }
   }
  }
 ],
 "metadata": {
  "language_info": {
   "codemirror_mode": {
    "name": "ipython",
    "version": 2
   },
   "file_extension": ".py",
   "mimetype": "text/x-python",
   "name": "python",
   "nbconvert_exporter": "python",
   "pygments_lexer": "ipython2",
   "version": "2.7.6"
  },
  "kernelspec": {
   "name": "python3",
   "language": "python",
   "display_name": "Python 3"
  },
  "pycharm": {
   "stem_cell": {
    "cell_type": "raw",
    "source": [],
    "metadata": {
     "collapsed": false
    }
   }
  }
 },
 "nbformat": 4,
 "nbformat_minor": 0
}